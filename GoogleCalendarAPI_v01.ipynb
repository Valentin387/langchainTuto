{
 "cells": [
  {
   "cell_type": "code",
   "execution_count": 8,
   "id": "8195a515-c7a0-4a11-a94d-aa2e0aa9f4f1",
   "metadata": {},
   "outputs": [],
   "source": [
    "import datetime\n",
    "import os.path\n",
    "\n",
    "from google.auth.transport.requests import Request\n",
    "from google.oauth2.credentials import Credentials\n",
    "from google_auth_oauthlib.flow import InstalledAppFlow\n",
    "from googleapiclient.discovery import build\n",
    "from googleapiclient.errors import HttpError"
   ]
  },
  {
   "cell_type": "code",
   "execution_count": 9,
   "id": "6025fc8f-aa69-4fb9-86ce-205c532cb683",
   "metadata": {},
   "outputs": [
    {
     "name": "stdout",
     "output_type": "stream",
     "text": [
      "Getting the events between specified dates\n",
      "2024-03-14 Estudiar RRDD\n",
      "2024-03-15 Parcial ASI\n",
      "2024-03-16 Examen RRDD\n",
      "2024-03-16 Entregar. Parcial I Auditoría\n"
     ]
    }
   ],
   "source": [
    "# If modifying these scopes, delete the file token.json.\n",
    "SCOPES = [\"https://www.googleapis.com/auth/calendar.readonly\"]\n",
    "\n",
    "import datetime\n",
    "\n",
    "def main():\n",
    "    \"\"\"Shows basic usage of the Google Calendar API.\n",
    "    Prints the start and name of the events between two specific dates.\n",
    "    \"\"\"\n",
    "    creds = None\n",
    "    # The file token.json stores the user's access and refresh tokens, and is\n",
    "    # created automatically when the authorization flow completes for the first\n",
    "    # time.\n",
    "    if os.path.exists(\"token.json\"):\n",
    "        creds = Credentials.from_authorized_user_file(\"token.json\", SCOPES)\n",
    "    # If there are no (valid) credentials available, let the user log in.\n",
    "    if not creds or not creds.valid:\n",
    "        if creds and creds.expired and creds.refresh_token:\n",
    "            creds.refresh(Request())\n",
    "        else:\n",
    "            flow = InstalledAppFlow.from_client_secrets_file(\n",
    "                \"credentials.json\", SCOPES\n",
    "            )\n",
    "            creds = flow.run_local_server(port=0)\n",
    "        # Save the credentials for the next run\n",
    "        with open(\"token.json\", \"w\") as token:\n",
    "            token.write(creds.to_json())\n",
    "\n",
    "    try:\n",
    "        service = build(\"calendar\", \"v3\", credentials=creds)\n",
    "\n",
    "        # Define the start and end dates for the time range\n",
    "        start_date = datetime.datetime(2023, 3, 15, 0, 0, 0).isoformat() + \"Z\"  # 'Z' indicates UTC time\n",
    "        end_date = datetime.datetime(2024, 3, 16, 23, 59, 59).isoformat() + \"Z\"  # 'Z' indicates UTC time\n",
    "\n",
    "        # Call the Calendar API\n",
    "        print(\"Getting the events between specified dates\")\n",
    "        events_result = (\n",
    "            service.events()\n",
    "            .list(\n",
    "                calendarId=\"primary\",\n",
    "                timeMin=start_date,\n",
    "                timeMax=end_date,\n",
    "                singleEvents=True,\n",
    "                orderBy=\"startTime\",\n",
    "            )\n",
    "            .execute()\n",
    "        )\n",
    "        events = events_result.get(\"items\", [])\n",
    "\n",
    "        if not events:\n",
    "            print(\"No events found between specified dates.\")\n",
    "            return\n",
    "\n",
    "        # Prints the start and name of the events between specified dates\n",
    "        for event in events:\n",
    "            start = event[\"start\"].get(\"dateTime\", event[\"start\"].get(\"date\"))\n",
    "            print(start, event[\"summary\"])\n",
    "\n",
    "    except HttpError as error:\n",
    "        print(f\"An error occurred: {error}\")\n",
    "\n",
    "\n",
    "if __name__ == \"__main__\":\n",
    "    main()\n"
   ]
  },
  {
   "cell_type": "code",
   "execution_count": null,
   "id": "4a897a38-cc78-431f-b482-2f766ab6b7c6",
   "metadata": {},
   "outputs": [],
   "source": []
  }
 ],
 "metadata": {
  "kernelspec": {
   "display_name": "Python 3 (ipykernel)",
   "language": "python",
   "name": "python3"
  },
  "language_info": {
   "codemirror_mode": {
    "name": "ipython",
    "version": 3
   },
   "file_extension": ".py",
   "mimetype": "text/x-python",
   "name": "python",
   "nbconvert_exporter": "python",
   "pygments_lexer": "ipython3",
   "version": "3.11.8"
  }
 },
 "nbformat": 4,
 "nbformat_minor": 5
}
