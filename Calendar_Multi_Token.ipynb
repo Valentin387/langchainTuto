{
 "cells": [
  {
   "cell_type": "code",
   "execution_count": 9,
   "id": "ab53c05a-967b-4bd9-8c19-dbbf3a962ce7",
   "metadata": {},
   "outputs": [],
   "source": [
    "import os.path\n",
    "import json\n",
    "import datetime\n",
    "\n",
    "from google.oauth2.credentials import Credentials\n",
    "from google_auth_oauthlib.flow import InstalledAppFlow\n",
    "from googleapiclient.discovery import build\n",
    "from googleapiclient.errors import HttpError\n",
    "from google.auth.transport.requests import Request"
   ]
  },
  {
   "cell_type": "code",
   "execution_count": 12,
   "id": "213984ac-eaaf-48ba-84c2-b4a480aa4fe5",
   "metadata": {},
   "outputs": [
    {
     "ename": "SyntaxError",
     "evalue": "expected ':' (2229899002.py, line 30)",
     "output_type": "error",
     "traceback": [
      "\u001b[1;36m  Cell \u001b[1;32mIn[12], line 30\u001b[1;36m\u001b[0m\n\u001b[1;33m    else if addNewAccount:\u001b[0m\n\u001b[1;37m         ^\u001b[0m\n\u001b[1;31mSyntaxError\u001b[0m\u001b[1;31m:\u001b[0m expected ':'\n"
     ]
    }
   ],
   "source": [
    "SCOPES = [\"https://www.googleapis.com/auth/calendar.readonly\"]\n",
    "\n",
    "def get_credentials():\n",
    "    \"\"\"Retrieve stored credentials from tokens.json.\"\"\"\n",
    "    if os.path.exists(\"tokens.json\"):\n",
    "        with open(\"tokens.json\", \"r\") as token_file:\n",
    "            tokens = json.load(token_file)\n",
    "            return [Credentials.from_authorized_user_info(json.loads(token), SCOPES) for token in tokens]\n",
    "    return []\n",
    "\n",
    "def save_credentials(creds):\n",
    "    \"\"\"Save credentials to tokens.json.\"\"\"\n",
    "    tokens = []\n",
    "    if os.path.exists(\"tokens.json\"):\n",
    "        with open(\"tokens.json\", \"r\") as token_file:\n",
    "            tokens = json.load(token_file)\n",
    "    tokens.append(creds.to_json())\n",
    "    with open(\"tokens.json\", \"w\") as token_file:\n",
    "        json.dump(tokens, token_file)\n",
    "\n",
    "def main():\n",
    "    \"\"\"Shows basic usage of the Google Calendar API.\"\"\"\n",
    "    addNewAccount = False\n",
    "    creds_list = get_credentials()\n",
    "    if not creds_list:\n",
    "        flow = InstalledAppFlow.from_client_secrets_file(\"credentials.json\", SCOPES)\n",
    "        creds = flow.run_local_server(port=0)\n",
    "        save_credentials(creds)\n",
    "        creds_list = [creds]\n",
    "    else if addNewAccount:\n",
    "        flow = InstalledAppFlow.from_client_secrets_file(\"credentials.json\", SCOPES)\n",
    "        creds = flow.run_local_server(port=0, authorization_prompt_message=\"Select the account to use or add a new one: \")\n",
    "        save_credentials(creds)\n",
    "        creds_list.append(creds)\n",
    "\n",
    "    start_date = datetime.datetime(2023, 3, 15, 0, 0, 0).isoformat() + \"Z\"\n",
    "    end_date = datetime.datetime(2024, 3, 16, 23, 59, 59).isoformat() + \"Z\"\n",
    "\n",
    "    try:\n",
    "        for creds in creds_list:\n",
    "            service = build(\"calendar\", \"v3\", credentials=creds)\n",
    "\n",
    "            events_result = (\n",
    "                service.events()\n",
    "                .list(\n",
    "                    calendarId=\"primary\",\n",
    "                    timeMin=start_date,\n",
    "                    timeMax=end_date,\n",
    "                    singleEvents=True,\n",
    "                    orderBy=\"startTime\",\n",
    "                )\n",
    "                .execute()\n",
    "            )\n",
    "            events = events_result.get(\"items\", [])\n",
    "\n",
    "            print(\"Events:\")\n",
    "            if not events:\n",
    "                print(\"No events found.\")\n",
    "            else:\n",
    "                for event in events:\n",
    "                    start = event[\"start\"].get(\"dateTime\", event[\"start\"].get(\"date\"))\n",
    "                    print(start, event[\"summary\"])\n",
    "\n",
    "    except Exception as error:\n",
    "        print(f\"An error occurred: {error}\")\n",
    "if __name__ == \"__main__\":\n",
    "    main()\n"
   ]
  },
  {
   "cell_type": "code",
   "execution_count": null,
   "id": "b7a9a14d-0e29-435a-b5c2-dec1ce9f1165",
   "metadata": {},
   "outputs": [],
   "source": []
  },
  {
   "cell_type": "code",
   "execution_count": null,
   "id": "53ef5707-1ac4-4ce2-8b14-11dd294ad6cd",
   "metadata": {},
   "outputs": [],
   "source": []
  }
 ],
 "metadata": {
  "kernelspec": {
   "display_name": "Python 3 (ipykernel)",
   "language": "python",
   "name": "python3"
  },
  "language_info": {
   "codemirror_mode": {
    "name": "ipython",
    "version": 3
   },
   "file_extension": ".py",
   "mimetype": "text/x-python",
   "name": "python",
   "nbconvert_exporter": "python",
   "pygments_lexer": "ipython3",
   "version": "3.11.8"
  }
 },
 "nbformat": 4,
 "nbformat_minor": 5
}
