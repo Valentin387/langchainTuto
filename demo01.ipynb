{
 "cells": [
  {
   "cell_type": "code",
   "execution_count": 7,
   "id": "13591c44-a3f7-4622-b028-2c09a9869beb",
   "metadata": {},
   "outputs": [
    {
     "data": {
      "text/plain": [
       "True"
      ]
     },
     "execution_count": 7,
     "metadata": {},
     "output_type": "execute_result"
    }
   ],
   "source": [
    "#Libraries\n",
    "import os\n",
    "import sys\n",
    "from dotenv import load_dotenv\n",
    "\n",
    "from langchain_openai import ChatOpenAI\n",
    "from langchain_core.prompts import ChatPromptTemplate\n",
    "from langchain_core.output_parsers import StrOutputParser\n",
    "from langchain_community.document_loaders import WebBaseLoader\n",
    "from langchain_openai import OpenAIEmbeddings\n",
    "from langchain_community.vectorstores import FAISS\n",
    "from langchain.text_splitter import RecursiveCharacterTextSplitter\n",
    "from langchain.chains.combine_documents import create_stuff_documents_chain\n",
    "from langchain.chains import create_retrieval_chain\n",
    "from langchain.chains import create_history_aware_retriever\n",
    "from langchain_core.prompts import MessagesPlaceholder\n",
    "from langchain_core.messages import HumanMessage, AIMessage\n",
    "\n",
    "load_dotenv() "
   ]
  },
  {
   "cell_type": "code",
   "execution_count": 8,
   "id": "c51163a7-e279-4aac-ba9b-2067f2b33382",
   "metadata": {},
   "outputs": [],
   "source": [
    "#API's\n",
    "api_key = os.getenv(\"OPENAI_API_KEY\")\n"
   ]
  },
  {
   "cell_type": "markdown",
   "id": "366b2a96-856b-4d50-bad0-5c88ae8db159",
   "metadata": {},
   "source": [
    "# LLM Chain"
   ]
  },
  {
   "cell_type": "code",
   "execution_count": 9,
   "id": "b3c9ae6f-65b6-4e9f-87d2-0e52c19e969c",
   "metadata": {},
   "outputs": [
    {
     "data": {
      "text/plain": [
       "AIMessage(content='There is no widely known or notable figure named Valentin Valencia. It is possible that Valentin Valencia is a private individual or a fictional character.')"
      ]
     },
     "execution_count": 9,
     "metadata": {},
     "output_type": "execute_result"
    }
   ],
   "source": [
    "#LLM\n",
    "llm = ChatOpenAI(openai_api_key=api_key)  # Create the ChatGPT instanc\n",
    "llm.invoke(\"who is Valentin Valencia?\")\n",
    "\n"
   ]
  },
  {
   "cell_type": "code",
   "execution_count": 10,
   "id": "5972e7e9-0d98-4f6d-8cd9-a49d9aa4b66a",
   "metadata": {},
   "outputs": [],
   "source": [
    "from langchain_core.prompts import ChatPromptTemplate\n",
    "prompt = ChatPromptTemplate.from_messages([\n",
    "    (\"system\", \"You are world class personal assistant.\"),\n",
    "    (\"user\", \"{input}\")\n",
    "])"
   ]
  },
  {
   "cell_type": "code",
   "execution_count": 11,
   "id": "0c0aa48f-bc91-434a-aaa7-d27aedb37e56",
   "metadata": {},
   "outputs": [],
   "source": [
    "chain = prompt | llm "
   ]
  },
  {
   "cell_type": "code",
   "execution_count": 13,
   "id": "27f443c6-f6b4-4a9a-94cd-8bc857951de2",
   "metadata": {},
   "outputs": [
    {
     "data": {
      "text/plain": [
       "AIMessage(content=\"I'm sorry, but I couldn't find any specific information on a person named Valentin Valencia. It is possible that this individual is not widely known or does not have a public presence. If you have more context or details, I may be able to provide more relevant information.\")"
      ]
     },
     "execution_count": 13,
     "metadata": {},
     "output_type": "execute_result"
    }
   ],
   "source": [
    "chain.invoke({\"input\": \"who is Valentin Valencia?\"})"
   ]
  },
  {
   "cell_type": "code",
   "execution_count": 14,
   "id": "d524e8a4-d756-46b1-b989-d183a475b1d1",
   "metadata": {},
   "outputs": [],
   "source": [
    "from langchain_core.output_parsers import StrOutputParser\n",
    "\n",
    "output_parser = StrOutputParser()"
   ]
  },
  {
   "cell_type": "code",
   "execution_count": 15,
   "id": "85cf4bc6-ab9b-48e0-a35c-40cb1f5b87a8",
   "metadata": {},
   "outputs": [],
   "source": [
    "chain = prompt | llm | output_parser"
   ]
  },
  {
   "cell_type": "code",
   "execution_count": 16,
   "id": "4e914275-f2e0-4d53-9eda-6a0f08751674",
   "metadata": {},
   "outputs": [
    {
     "data": {
      "text/plain": [
       "\"I'm sorry, but I couldn't find any specific information about a person named Valentin Valencia. Could you provide more context or details to help me assist you better?\""
      ]
     },
     "execution_count": 16,
     "metadata": {},
     "output_type": "execute_result"
    }
   ],
   "source": [
    "chain.invoke({\"input\": \"who is Valentin Valencia?\"})"
   ]
  },
  {
   "cell_type": "markdown",
   "id": "5259d6ba-d20f-4766-9bc9-a15f0fe1ffbb",
   "metadata": {},
   "source": [
    "# Retrieval Chain"
   ]
  },
  {
   "cell_type": "code",
   "execution_count": 17,
   "id": "bde31937-f1ab-45eb-becd-d391f4409575",
   "metadata": {},
   "outputs": [],
   "source": [
    "\"\"\"\n",
    "from langchain_community.document_loaders import WebBaseLoader\n",
    "loader = WebBaseLoader(\"https://en.wikipedia.org/wiki/President_of_Colombia\")\n",
    "\n",
    "docs = loader.load()\n",
    "\"\"\"\n",
    "# Load content from the local file\n",
    "file_path = \"text.txt\"\n",
    "with open(file_path, \"r\", encoding=\"utf-8\") as file:\n",
    "    text_content = file.read()"
   ]
  },
  {
   "cell_type": "code",
   "execution_count": 18,
   "id": "838b3c8f-0287-41b3-8d4b-b78f8a4f51c2",
   "metadata": {},
   "outputs": [],
   "source": [
    "from langchain_openai import OpenAIEmbeddings\n",
    "\n",
    "embeddings = OpenAIEmbeddings(openai_api_key=api_key)"
   ]
  },
  {
   "cell_type": "code",
   "execution_count": 20,
   "id": "a8b9274e-923d-4438-a281-2ef45b34dcc6",
   "metadata": {},
   "outputs": [],
   "source": [
    "from langchain_core.documents import Document\n",
    "from langchain_community.vectorstores import FAISS\n",
    "from langchain.text_splitter import RecursiveCharacterTextSplitter\n",
    "\n",
    "\n",
    "text_splitter = RecursiveCharacterTextSplitter()\n",
    "documents = text_splitter.split_documents([Document(page_content=text_content)])\n",
    "vector = FAISS.from_documents(documents, embeddings)"
   ]
  },
  {
   "cell_type": "code",
   "execution_count": 21,
   "id": "cd63457d-62cc-4cbe-9824-d4d6c9db4f29",
   "metadata": {},
   "outputs": [],
   "source": [
    "from langchain.chains.combine_documents import create_stuff_documents_chain\n",
    "\n",
    "prompt = ChatPromptTemplate.from_template(\"\"\"Answer the following question based only on the provided context:\n",
    "\n",
    "<context>\n",
    "{context}\n",
    "</context>\n",
    "\n",
    "Question: {input}\"\"\")\n",
    "\n",
    "document_chain = create_stuff_documents_chain(llm, prompt)"
   ]
  },
  {
   "cell_type": "code",
   "execution_count": 23,
   "id": "f73ecf92-a63d-44a4-aebd-d19796bc9bcd",
   "metadata": {},
   "outputs": [],
   "source": [
    "from langchain.chains import create_retrieval_chain\n",
    "\n",
    "retriever = vector.as_retriever()\n",
    "retrieval_chain = create_retrieval_chain(retriever, document_chain)"
   ]
  },
  {
   "cell_type": "code",
   "execution_count": 24,
   "id": "94f13aa6-9f9a-4f92-a362-54424abc20d1",
   "metadata": {},
   "outputs": [
    {
     "name": "stdout",
     "output_type": "stream",
     "text": [
      "Valentin Valencia is a trilingual communicator and full-stack developer currently pursuing a degree in Systems and Computing Engineering at Universidad Tecnológica de Pereira. He has a strong foundation in academic excellence and has also studied at L'École de Technologie Supérieure in Montreal, Canada. Valentin is passionate about using technology to drive innovation and values collaboration, honesty, consistency, respect, and responsibility in his work. He is also a Taekwondo practitioner and cycling enthusiast who enjoys exploring different cultures, languages, and technologies.\n"
     ]
    }
   ],
   "source": [
    "response = retrieval_chain.invoke({\"input\": \"who is Valentin Valencia?\"})\n",
    "print(response[\"answer\"])"
   ]
  },
  {
   "cell_type": "markdown",
   "id": "6f3d200f-b945-41f9-8b0e-b66a0f6130db",
   "metadata": {},
   "source": [
    "# Conversation Retrieval Chain"
   ]
  },
  {
   "cell_type": "code",
   "execution_count": 27,
   "id": "bc04332a-9937-475e-ae0a-72b83e5c0eaa",
   "metadata": {},
   "outputs": [],
   "source": [
    "from langchain.chains import create_history_aware_retriever\n",
    "from langchain_core.prompts import MessagesPlaceholder\n",
    "\n",
    "# First we need a prompt that we can pass into an LLM to generate this search query\n",
    "\n",
    "prompt = ChatPromptTemplate.from_messages([\n",
    "    MessagesPlaceholder(variable_name=\"chat_history\"),\n",
    "    (\"user\", \"{input}\"),\n",
    "    (\"user\", \"Given the above conversation, generate a search query to look up in order to get information relevant to the conversation\")\n",
    "])\n",
    "retriever_chain = create_history_aware_retriever(llm, retriever, prompt)"
   ]
  },
  {
   "cell_type": "markdown",
   "id": "77a8f0f3-c324-44ce-9008-ba968ca21c29",
   "metadata": {},
   "source": [
    "We can test this out by passing in an instance where the user is asking a follow up question."
   ]
  },
  {
   "cell_type": "code",
   "execution_count": 28,
   "id": "d52b2871-1718-4aa0-9be0-f6cb9f8c7032",
   "metadata": {},
   "outputs": [
    {
     "data": {
      "text/plain": [
       "[Document(page_content=\"Summary\\n\\n👋 Hello, I'm Valentin Valencia, and I believe in the power of connecting people, ideas, and technology. 🌐\\n\\n📚 With a foundation in academic excellence, I graduated with honors from Colegio Salesiano San Juan Bosco and embarked on a journey of continuous learning. Currently, I'm pursuing a degree in Systems and Computing Engineering at Universidad Tecnológica de Pereira, where I'm passionate about harnessing technology to drive innovation.\\n\\n🌍 My horizons expanded during an eye-opening academic exchange at L'École de Technologie Supérieure in Montreal, Canada, where I delved into the realm of génie en technologies de l'information.\\n\\n💬 I'm not just proficient in one language; I'm a trilingual communicator. Fluent in Spanish, English (certified at C1 level by the British Council's APTIS test), and French (certified as DALF C1 by L'Alliance Française), I bridge cultural gaps and collaborate seamlessly on a global scale.\\n\\n💻 My skills shine in the realm of full-stack development with a focus on backend technologies. I'm adept with tools like Spring Boot, Vue.js, Expo, Django, MySQL, GitKraken, and I ensure the smoothest collaboration through DevOps and GitHub Kanban. I also hold a Cisco CCNA Introduction to Networks badge.\\n\\n🤝 Collaboration is my forte. Whether leading a team or working alongside passionate colleagues, I relish the opportunity to drive progress and make exciting projects a reality.\\n\\n🙌 The values I cherish most are honesty, consistency, respect, and responsibility, and I seek these qualities in those I work with.\\n\\n✈️ My experience living abroad has honed my adaptability, allowing me to seamlessly integrate into new environments, navigate diverse social norms, and embrace emerging technologies.\\n\\n🥋 Beyond my digital pursuits, I love physical and mental exercise, practicing Taekwondo and cycling to cultivate resilience and determination. My love for movies, books, history, diverse cultures, and languages fuels my passion for meaningful conversations.\\n\\n🌟 Let's connect and explore opportunities to collaborate, innovate, and make a difference together. Whether you're interested in technology, languages, or simply sharing a great book recommendation, I'm always eager to connect and expand my horizons.\\n\\nLooking forward to connecting and embarking on exciting journeys together! 🚀🌎 #OpenToOpportunities #TechEnthusiast #LanguageLover #TeamPlayer\"),\n",
       " Document(page_content='Looking forward to connecting and embarking on exciting journeys together! 🚀🌎 #OpenToOpportunities #TechEnthusiast #LanguageLover #TeamPlayer\\n\\n\\nEducation\\nUniversidad Tecnológica de Pereira logo\\nUniversidad Tecnológica de PereiraUniversidad Tecnológica de Pereira\\nBachelor of Engineering - BE, Computer Software EngineeringBachelor of Engineering - BE, Computer Software Engineering\\nJan 2019 - Nov 2024Jan 2019 - Nov 2024\\nA university community committed to the human and academic development of citizens with critical thinking and the ability to participate in strengthening democracy; with an interdisciplinary perspective for understanding and seeking solutions to societal problems, grounded in the knowledge of sciences, disciplines, arts, and wisdom.A university community committed to the human and academic development of citizens with critical thinking and the ability to participate in strengthening democracy; with an interdisciplinary perspective for understanding and seeking solutions to societal problems, grounded in the knowledge of sciences, disciplines, arts, and wisdom.\\nSkills: IntelliJ IDEA · DevOps · PHP · Microsoft Excel · Kanban · Gitlab · C (Programming Language) · Metodologías ágiles · GitHub · C++ · MySQL · Estructuras de datos · Spring Boot · Spring Framework · XML · Cisco Networking · Pygame · Agile Software Development · Microsoft Visual Studio Code · gitKraken · Java · Programming · Desarrollo web back end · Maven · SQL · Vue.js · DjangoSkills: IntelliJ IDEA · DevOps · PHP · Microsoft Excel · Kanban · Gitlab · C (Programming Language) · Metodologías ágiles · GitHub · C++ · MySQL · Estructuras de datos · Spring Boot · Spring Framework · XML · Cisco Networking · Pygame · Agile Software Development · Microsoft Visual Studio Code · gitKraken · Java · Programming · Desarrollo web back end · Maven · SQL · Vue.js · Django\\n\\nCertificado de notas (2022)Certificado de notas (2022)\\nÉcole de technologie supérieure logo\\nÉcole de technologie supérieureÉcole de technologie supérieure\\nBachelor of Engineering - BE, Information TechnologyBachelor of Engineering - BE, Information Technology\\nJan 2023 - Apr 2023Jan 2023 - Apr 2023\\nThe École de technologie supérieure is a constituent institution of the University of Quebec network. Specialized in applied engineering education, research, and technology transfer, it educates engineers and researchers known for their practical and innovative approach.The École de technologie supérieure is a constituent institution of the University of Quebec network. Specialized in applied engineering education, research, and technology transfer, it educates engineers and researchers known for their practical and innovative approach.\\nSkills: French · IntelliJ IDEA · DevOps · TensorFlow · PHP · Kanban · Gitlab · Metodologías ágiles · GitHub · English · React Native · Aplicaciones móviles · Estructuras de datos · Spring Boot · Spring Framework · XML · Agile Software Development · Microsoft Visual Studio Code · gitKraken · Java · Multilingual Communication · Programming · Desarrollo web back end · Maven · SQL · Vue.jsSkills: French · IntelliJ IDEA · DevOps · TensorFlow · PHP · Kanban · Gitlab · Metodologías ágiles · GitHub · English · React Native · Aplicaciones móviles · Estructuras de datos · Spring Boot · Spring Framework · XML · Agile Software Development · Microsoft Visual Studio Code · gitKraken · Java · Multilingual Communication · Programming · Desarrollo web back end · Maven · SQL · Vue.js'),\n",
       " Document(page_content='ÉTS notes from Canada.pdfÉTS notes from Canada.pdf\\nMy certification sent from the ÉTS in Canada, signed by the registraire.My certification sent from the ÉTS in Canada, signed by the registraire.\\nColegio Salesiano San Juan BoscoColegio Salesiano San Juan Bosco\\nHigh School Diploma, Academic degreeHigh School Diploma, Academic degree\\nJan 2007 - Nov 2018Jan 2007 - Nov 2018\\nA prestigious Catholic private school committed to fostering academic excellence, character development, and a strong work ethic.A prestigious Catholic private school committed to fostering academic excellence, character development, and a strong work ethic.\\nSkills: Project ManagementSkills: Project Management\\n\\nDIPLOMA.pdfDIPLOMA.pdf\\nMy high school diploma')]"
      ]
     },
     "execution_count": 28,
     "metadata": {},
     "output_type": "execute_result"
    }
   ],
   "source": [
    "from langchain_core.messages import HumanMessage, AIMessage\n",
    "\n",
    "chat_history = [HumanMessage(content=\"Can you tell me about Valentin Valencia?\"), AIMessage(content=\"Yes!\")]\n",
    "retriever_chain.invoke({\n",
    "    \"chat_history\": chat_history,\n",
    "    \"input\": \"where was he born\"\n",
    "})"
   ]
  },
  {
   "cell_type": "markdown",
   "id": "1aa9be4b-fd97-4a44-9aa4-c43df3e23b58",
   "metadata": {},
   "source": [
    "You should see that this returns documents about testing in LangSmith. This is because the LLM generated a new query, combining the chat history with the follow up question.\n",
    "\n",
    "Now that we have this new retriever, we can create a new chain to continue the conversation with these retrieved documents in mind."
   ]
  },
  {
   "cell_type": "code",
   "execution_count": 34,
   "id": "28bc3d2d-acbc-4799-82e6-45a0d10aeb2f",
   "metadata": {},
   "outputs": [],
   "source": [
    "prompt = ChatPromptTemplate.from_messages([\n",
    "    (\"system\", \"Answer the user's questions based on the below context:\\n\\n{context}\"),\n",
    "    MessagesPlaceholder(variable_name=\"chat_history\"),\n",
    "    (\"user\", \"{input}\"),\n",
    "])\n",
    "document_chain = create_stuff_documents_chain(llm, prompt)\n",
    "\n",
    "retrieval_chain = create_retrieval_chain(retriever_chain, document_chain)"
   ]
  },
  {
   "cell_type": "markdown",
   "id": "bb1b7ce1-234c-48de-b4d2-711c8115fa63",
   "metadata": {},
   "source": [
    "We can now test this out end-to-end:"
   ]
  },
  {
   "cell_type": "code",
   "execution_count": 35,
   "id": "07924e06-71ba-4e10-b8b0-0296951ebcdb",
   "metadata": {},
   "outputs": [
    {
     "data": {
      "text/plain": [
       "{'chat_history': [HumanMessage(content='Hello'), AIMessage(content='Hello!')],\n",
       " 'input': 'who is Valentin Valencia?',\n",
       " 'context': [Document(page_content=\"Summary\\n\\n👋 Hello, I'm Valentin Valencia, and I believe in the power of connecting people, ideas, and technology. 🌐\\n\\n📚 With a foundation in academic excellence, I graduated with honors from Colegio Salesiano San Juan Bosco and embarked on a journey of continuous learning. Currently, I'm pursuing a degree in Systems and Computing Engineering at Universidad Tecnológica de Pereira, where I'm passionate about harnessing technology to drive innovation.\\n\\n🌍 My horizons expanded during an eye-opening academic exchange at L'École de Technologie Supérieure in Montreal, Canada, where I delved into the realm of génie en technologies de l'information.\\n\\n💬 I'm not just proficient in one language; I'm a trilingual communicator. Fluent in Spanish, English (certified at C1 level by the British Council's APTIS test), and French (certified as DALF C1 by L'Alliance Française), I bridge cultural gaps and collaborate seamlessly on a global scale.\\n\\n💻 My skills shine in the realm of full-stack development with a focus on backend technologies. I'm adept with tools like Spring Boot, Vue.js, Expo, Django, MySQL, GitKraken, and I ensure the smoothest collaboration through DevOps and GitHub Kanban. I also hold a Cisco CCNA Introduction to Networks badge.\\n\\n🤝 Collaboration is my forte. Whether leading a team or working alongside passionate colleagues, I relish the opportunity to drive progress and make exciting projects a reality.\\n\\n🙌 The values I cherish most are honesty, consistency, respect, and responsibility, and I seek these qualities in those I work with.\\n\\n✈️ My experience living abroad has honed my adaptability, allowing me to seamlessly integrate into new environments, navigate diverse social norms, and embrace emerging technologies.\\n\\n🥋 Beyond my digital pursuits, I love physical and mental exercise, practicing Taekwondo and cycling to cultivate resilience and determination. My love for movies, books, history, diverse cultures, and languages fuels my passion for meaningful conversations.\\n\\n🌟 Let's connect and explore opportunities to collaborate, innovate, and make a difference together. Whether you're interested in technology, languages, or simply sharing a great book recommendation, I'm always eager to connect and expand my horizons.\\n\\nLooking forward to connecting and embarking on exciting journeys together! 🚀🌎 #OpenToOpportunities #TechEnthusiast #LanguageLover #TeamPlayer\"),\n",
       "  Document(page_content='Looking forward to connecting and embarking on exciting journeys together! 🚀🌎 #OpenToOpportunities #TechEnthusiast #LanguageLover #TeamPlayer\\n\\n\\nEducation\\nUniversidad Tecnológica de Pereira logo\\nUniversidad Tecnológica de PereiraUniversidad Tecnológica de Pereira\\nBachelor of Engineering - BE, Computer Software EngineeringBachelor of Engineering - BE, Computer Software Engineering\\nJan 2019 - Nov 2024Jan 2019 - Nov 2024\\nA university community committed to the human and academic development of citizens with critical thinking and the ability to participate in strengthening democracy; with an interdisciplinary perspective for understanding and seeking solutions to societal problems, grounded in the knowledge of sciences, disciplines, arts, and wisdom.A university community committed to the human and academic development of citizens with critical thinking and the ability to participate in strengthening democracy; with an interdisciplinary perspective for understanding and seeking solutions to societal problems, grounded in the knowledge of sciences, disciplines, arts, and wisdom.\\nSkills: IntelliJ IDEA · DevOps · PHP · Microsoft Excel · Kanban · Gitlab · C (Programming Language) · Metodologías ágiles · GitHub · C++ · MySQL · Estructuras de datos · Spring Boot · Spring Framework · XML · Cisco Networking · Pygame · Agile Software Development · Microsoft Visual Studio Code · gitKraken · Java · Programming · Desarrollo web back end · Maven · SQL · Vue.js · DjangoSkills: IntelliJ IDEA · DevOps · PHP · Microsoft Excel · Kanban · Gitlab · C (Programming Language) · Metodologías ágiles · GitHub · C++ · MySQL · Estructuras de datos · Spring Boot · Spring Framework · XML · Cisco Networking · Pygame · Agile Software Development · Microsoft Visual Studio Code · gitKraken · Java · Programming · Desarrollo web back end · Maven · SQL · Vue.js · Django\\n\\nCertificado de notas (2022)Certificado de notas (2022)\\nÉcole de technologie supérieure logo\\nÉcole de technologie supérieureÉcole de technologie supérieure\\nBachelor of Engineering - BE, Information TechnologyBachelor of Engineering - BE, Information Technology\\nJan 2023 - Apr 2023Jan 2023 - Apr 2023\\nThe École de technologie supérieure is a constituent institution of the University of Quebec network. Specialized in applied engineering education, research, and technology transfer, it educates engineers and researchers known for their practical and innovative approach.The École de technologie supérieure is a constituent institution of the University of Quebec network. Specialized in applied engineering education, research, and technology transfer, it educates engineers and researchers known for their practical and innovative approach.\\nSkills: French · IntelliJ IDEA · DevOps · TensorFlow · PHP · Kanban · Gitlab · Metodologías ágiles · GitHub · English · React Native · Aplicaciones móviles · Estructuras de datos · Spring Boot · Spring Framework · XML · Agile Software Development · Microsoft Visual Studio Code · gitKraken · Java · Multilingual Communication · Programming · Desarrollo web back end · Maven · SQL · Vue.jsSkills: French · IntelliJ IDEA · DevOps · TensorFlow · PHP · Kanban · Gitlab · Metodologías ágiles · GitHub · English · React Native · Aplicaciones móviles · Estructuras de datos · Spring Boot · Spring Framework · XML · Agile Software Development · Microsoft Visual Studio Code · gitKraken · Java · Multilingual Communication · Programming · Desarrollo web back end · Maven · SQL · Vue.js'),\n",
       "  Document(page_content='ÉTS notes from Canada.pdfÉTS notes from Canada.pdf\\nMy certification sent from the ÉTS in Canada, signed by the registraire.My certification sent from the ÉTS in Canada, signed by the registraire.\\nColegio Salesiano San Juan BoscoColegio Salesiano San Juan Bosco\\nHigh School Diploma, Academic degreeHigh School Diploma, Academic degree\\nJan 2007 - Nov 2018Jan 2007 - Nov 2018\\nA prestigious Catholic private school committed to fostering academic excellence, character development, and a strong work ethic.A prestigious Catholic private school committed to fostering academic excellence, character development, and a strong work ethic.\\nSkills: Project ManagementSkills: Project Management\\n\\nDIPLOMA.pdfDIPLOMA.pdf\\nMy high school diploma')],\n",
       " 'answer': \"Valentin Valencia is a dedicated individual who believes in the power of connecting people, ideas, and technology. He is currently pursuing a degree in Systems and Computing Engineering at Universidad Tecnológica de Pereira and has a background in academic excellence, including an academic exchange at L'École de Technologie Supérieure in Montreal, Canada. Valentin is a trilingual communicator proficient in Spanish, English, and French, with skills in full-stack development and a focus on backend technologies. Collaboration, honesty, consistency, respect, and responsibility are values he cherishes, and he enjoys physical and mental exercise, as well as exploring movies, books, history, cultures, and languages. Valentin is passionate about making a difference through innovation and collaboration.\"}"
      ]
     },
     "execution_count": 35,
     "metadata": {},
     "output_type": "execute_result"
    }
   ],
   "source": [
    "chat_history = [HumanMessage(content=\"Hello\"), AIMessage(content=\"Hello!\")]\n",
    "retrieval_chain.invoke({\n",
    "    \"chat_history\": chat_history,\n",
    "    \"input\": \"who is Valentin Valencia?\"\n",
    "})"
   ]
  },
  {
   "cell_type": "markdown",
   "id": "3ad6fa54-f34b-47a2-acfc-dc286192369e",
   "metadata": {},
   "source": [
    "We can see that this gives a coherent answer - we've successfully turned our retrieval chain into a chatbot!"
   ]
  },
  {
   "cell_type": "code",
   "execution_count": 36,
   "id": "e6685ffd-f53a-452a-b964-32c13e02283f",
   "metadata": {},
   "outputs": [
    {
     "name": "stdout",
     "output_type": "stream",
     "text": [
      "[HumanMessage(content='Hello'), AIMessage(content='Hello!')]\n"
     ]
    }
   ],
   "source": [
    "print(chat_history)"
   ]
  },
  {
   "cell_type": "code",
   "execution_count": 37,
   "id": "ff4fc2af-ddb9-47dc-959a-7cb5a791775e",
   "metadata": {},
   "outputs": [
    {
     "data": {
      "text/plain": [
       "{'chat_history': [HumanMessage(content='Hello'), AIMessage(content='Hello!')],\n",
       " 'input': 'list his universitites',\n",
       " 'context': [Document(page_content='Looking forward to connecting and embarking on exciting journeys together! 🚀🌎 #OpenToOpportunities #TechEnthusiast #LanguageLover #TeamPlayer\\n\\n\\nEducation\\nUniversidad Tecnológica de Pereira logo\\nUniversidad Tecnológica de PereiraUniversidad Tecnológica de Pereira\\nBachelor of Engineering - BE, Computer Software EngineeringBachelor of Engineering - BE, Computer Software Engineering\\nJan 2019 - Nov 2024Jan 2019 - Nov 2024\\nA university community committed to the human and academic development of citizens with critical thinking and the ability to participate in strengthening democracy; with an interdisciplinary perspective for understanding and seeking solutions to societal problems, grounded in the knowledge of sciences, disciplines, arts, and wisdom.A university community committed to the human and academic development of citizens with critical thinking and the ability to participate in strengthening democracy; with an interdisciplinary perspective for understanding and seeking solutions to societal problems, grounded in the knowledge of sciences, disciplines, arts, and wisdom.\\nSkills: IntelliJ IDEA · DevOps · PHP · Microsoft Excel · Kanban · Gitlab · C (Programming Language) · Metodologías ágiles · GitHub · C++ · MySQL · Estructuras de datos · Spring Boot · Spring Framework · XML · Cisco Networking · Pygame · Agile Software Development · Microsoft Visual Studio Code · gitKraken · Java · Programming · Desarrollo web back end · Maven · SQL · Vue.js · DjangoSkills: IntelliJ IDEA · DevOps · PHP · Microsoft Excel · Kanban · Gitlab · C (Programming Language) · Metodologías ágiles · GitHub · C++ · MySQL · Estructuras de datos · Spring Boot · Spring Framework · XML · Cisco Networking · Pygame · Agile Software Development · Microsoft Visual Studio Code · gitKraken · Java · Programming · Desarrollo web back end · Maven · SQL · Vue.js · Django\\n\\nCertificado de notas (2022)Certificado de notas (2022)\\nÉcole de technologie supérieure logo\\nÉcole de technologie supérieureÉcole de technologie supérieure\\nBachelor of Engineering - BE, Information TechnologyBachelor of Engineering - BE, Information Technology\\nJan 2023 - Apr 2023Jan 2023 - Apr 2023\\nThe École de technologie supérieure is a constituent institution of the University of Quebec network. Specialized in applied engineering education, research, and technology transfer, it educates engineers and researchers known for their practical and innovative approach.The École de technologie supérieure is a constituent institution of the University of Quebec network. Specialized in applied engineering education, research, and technology transfer, it educates engineers and researchers known for their practical and innovative approach.\\nSkills: French · IntelliJ IDEA · DevOps · TensorFlow · PHP · Kanban · Gitlab · Metodologías ágiles · GitHub · English · React Native · Aplicaciones móviles · Estructuras de datos · Spring Boot · Spring Framework · XML · Agile Software Development · Microsoft Visual Studio Code · gitKraken · Java · Multilingual Communication · Programming · Desarrollo web back end · Maven · SQL · Vue.jsSkills: French · IntelliJ IDEA · DevOps · TensorFlow · PHP · Kanban · Gitlab · Metodologías ágiles · GitHub · English · React Native · Aplicaciones móviles · Estructuras de datos · Spring Boot · Spring Framework · XML · Agile Software Development · Microsoft Visual Studio Code · gitKraken · Java · Multilingual Communication · Programming · Desarrollo web back end · Maven · SQL · Vue.js'),\n",
       "  Document(page_content='ÉTS notes from Canada.pdfÉTS notes from Canada.pdf\\nMy certification sent from the ÉTS in Canada, signed by the registraire.My certification sent from the ÉTS in Canada, signed by the registraire.\\nColegio Salesiano San Juan BoscoColegio Salesiano San Juan Bosco\\nHigh School Diploma, Academic degreeHigh School Diploma, Academic degree\\nJan 2007 - Nov 2018Jan 2007 - Nov 2018\\nA prestigious Catholic private school committed to fostering academic excellence, character development, and a strong work ethic.A prestigious Catholic private school committed to fostering academic excellence, character development, and a strong work ethic.\\nSkills: Project ManagementSkills: Project Management\\n\\nDIPLOMA.pdfDIPLOMA.pdf\\nMy high school diploma'),\n",
       "  Document(page_content=\"Summary\\n\\n👋 Hello, I'm Valentin Valencia, and I believe in the power of connecting people, ideas, and technology. 🌐\\n\\n📚 With a foundation in academic excellence, I graduated with honors from Colegio Salesiano San Juan Bosco and embarked on a journey of continuous learning. Currently, I'm pursuing a degree in Systems and Computing Engineering at Universidad Tecnológica de Pereira, where I'm passionate about harnessing technology to drive innovation.\\n\\n🌍 My horizons expanded during an eye-opening academic exchange at L'École de Technologie Supérieure in Montreal, Canada, where I delved into the realm of génie en technologies de l'information.\\n\\n💬 I'm not just proficient in one language; I'm a trilingual communicator. Fluent in Spanish, English (certified at C1 level by the British Council's APTIS test), and French (certified as DALF C1 by L'Alliance Française), I bridge cultural gaps and collaborate seamlessly on a global scale.\\n\\n💻 My skills shine in the realm of full-stack development with a focus on backend technologies. I'm adept with tools like Spring Boot, Vue.js, Expo, Django, MySQL, GitKraken, and I ensure the smoothest collaboration through DevOps and GitHub Kanban. I also hold a Cisco CCNA Introduction to Networks badge.\\n\\n🤝 Collaboration is my forte. Whether leading a team or working alongside passionate colleagues, I relish the opportunity to drive progress and make exciting projects a reality.\\n\\n🙌 The values I cherish most are honesty, consistency, respect, and responsibility, and I seek these qualities in those I work with.\\n\\n✈️ My experience living abroad has honed my adaptability, allowing me to seamlessly integrate into new environments, navigate diverse social norms, and embrace emerging technologies.\\n\\n🥋 Beyond my digital pursuits, I love physical and mental exercise, practicing Taekwondo and cycling to cultivate resilience and determination. My love for movies, books, history, diverse cultures, and languages fuels my passion for meaningful conversations.\\n\\n🌟 Let's connect and explore opportunities to collaborate, innovate, and make a difference together. Whether you're interested in technology, languages, or simply sharing a great book recommendation, I'm always eager to connect and expand my horizons.\\n\\nLooking forward to connecting and embarking on exciting journeys together! 🚀🌎 #OpenToOpportunities #TechEnthusiast #LanguageLover #TeamPlayer\")],\n",
       " 'answer': \"Valentin Valencia's universities are:\\n1. Universidad Tecnológica de Pereira\\n2. École de technologie supérieure\"}"
      ]
     },
     "execution_count": 37,
     "metadata": {},
     "output_type": "execute_result"
    }
   ],
   "source": [
    "retrieval_chain.invoke({\n",
    "    \"chat_history\": chat_history,\n",
    "    \"input\": \"list his universitites\"\n",
    "})"
   ]
  },
  {
   "cell_type": "code",
   "execution_count": 38,
   "id": "e388c61f-b262-42df-b67e-578801481745",
   "metadata": {},
   "outputs": [
    {
     "name": "stdout",
     "output_type": "stream",
     "text": [
      "[HumanMessage(content='Hello'), AIMessage(content='Hello!')]\n"
     ]
    }
   ],
   "source": [
    "print(chat_history)"
   ]
  },
  {
   "cell_type": "code",
   "execution_count": 39,
   "id": "9358cce8-8879-428a-bc05-c61e586a1e36",
   "metadata": {},
   "outputs": [
    {
     "data": {
      "text/plain": [
       "{'chat_history': [HumanMessage(content='Hello'), AIMessage(content='Hello!')],\n",
       " 'input': 'list his hobbies',\n",
       " 'context': [Document(page_content='Looking forward to connecting and embarking on exciting journeys together! 🚀🌎 #OpenToOpportunities #TechEnthusiast #LanguageLover #TeamPlayer\\n\\n\\nEducation\\nUniversidad Tecnológica de Pereira logo\\nUniversidad Tecnológica de PereiraUniversidad Tecnológica de Pereira\\nBachelor of Engineering - BE, Computer Software EngineeringBachelor of Engineering - BE, Computer Software Engineering\\nJan 2019 - Nov 2024Jan 2019 - Nov 2024\\nA university community committed to the human and academic development of citizens with critical thinking and the ability to participate in strengthening democracy; with an interdisciplinary perspective for understanding and seeking solutions to societal problems, grounded in the knowledge of sciences, disciplines, arts, and wisdom.A university community committed to the human and academic development of citizens with critical thinking and the ability to participate in strengthening democracy; with an interdisciplinary perspective for understanding and seeking solutions to societal problems, grounded in the knowledge of sciences, disciplines, arts, and wisdom.\\nSkills: IntelliJ IDEA · DevOps · PHP · Microsoft Excel · Kanban · Gitlab · C (Programming Language) · Metodologías ágiles · GitHub · C++ · MySQL · Estructuras de datos · Spring Boot · Spring Framework · XML · Cisco Networking · Pygame · Agile Software Development · Microsoft Visual Studio Code · gitKraken · Java · Programming · Desarrollo web back end · Maven · SQL · Vue.js · DjangoSkills: IntelliJ IDEA · DevOps · PHP · Microsoft Excel · Kanban · Gitlab · C (Programming Language) · Metodologías ágiles · GitHub · C++ · MySQL · Estructuras de datos · Spring Boot · Spring Framework · XML · Cisco Networking · Pygame · Agile Software Development · Microsoft Visual Studio Code · gitKraken · Java · Programming · Desarrollo web back end · Maven · SQL · Vue.js · Django\\n\\nCertificado de notas (2022)Certificado de notas (2022)\\nÉcole de technologie supérieure logo\\nÉcole de technologie supérieureÉcole de technologie supérieure\\nBachelor of Engineering - BE, Information TechnologyBachelor of Engineering - BE, Information Technology\\nJan 2023 - Apr 2023Jan 2023 - Apr 2023\\nThe École de technologie supérieure is a constituent institution of the University of Quebec network. Specialized in applied engineering education, research, and technology transfer, it educates engineers and researchers known for their practical and innovative approach.The École de technologie supérieure is a constituent institution of the University of Quebec network. Specialized in applied engineering education, research, and technology transfer, it educates engineers and researchers known for their practical and innovative approach.\\nSkills: French · IntelliJ IDEA · DevOps · TensorFlow · PHP · Kanban · Gitlab · Metodologías ágiles · GitHub · English · React Native · Aplicaciones móviles · Estructuras de datos · Spring Boot · Spring Framework · XML · Agile Software Development · Microsoft Visual Studio Code · gitKraken · Java · Multilingual Communication · Programming · Desarrollo web back end · Maven · SQL · Vue.jsSkills: French · IntelliJ IDEA · DevOps · TensorFlow · PHP · Kanban · Gitlab · Metodologías ágiles · GitHub · English · React Native · Aplicaciones móviles · Estructuras de datos · Spring Boot · Spring Framework · XML · Agile Software Development · Microsoft Visual Studio Code · gitKraken · Java · Multilingual Communication · Programming · Desarrollo web back end · Maven · SQL · Vue.js'),\n",
       "  Document(page_content='ÉTS notes from Canada.pdfÉTS notes from Canada.pdf\\nMy certification sent from the ÉTS in Canada, signed by the registraire.My certification sent from the ÉTS in Canada, signed by the registraire.\\nColegio Salesiano San Juan BoscoColegio Salesiano San Juan Bosco\\nHigh School Diploma, Academic degreeHigh School Diploma, Academic degree\\nJan 2007 - Nov 2018Jan 2007 - Nov 2018\\nA prestigious Catholic private school committed to fostering academic excellence, character development, and a strong work ethic.A prestigious Catholic private school committed to fostering academic excellence, character development, and a strong work ethic.\\nSkills: Project ManagementSkills: Project Management\\n\\nDIPLOMA.pdfDIPLOMA.pdf\\nMy high school diploma'),\n",
       "  Document(page_content=\"Summary\\n\\n👋 Hello, I'm Valentin Valencia, and I believe in the power of connecting people, ideas, and technology. 🌐\\n\\n📚 With a foundation in academic excellence, I graduated with honors from Colegio Salesiano San Juan Bosco and embarked on a journey of continuous learning. Currently, I'm pursuing a degree in Systems and Computing Engineering at Universidad Tecnológica de Pereira, where I'm passionate about harnessing technology to drive innovation.\\n\\n🌍 My horizons expanded during an eye-opening academic exchange at L'École de Technologie Supérieure in Montreal, Canada, where I delved into the realm of génie en technologies de l'information.\\n\\n💬 I'm not just proficient in one language; I'm a trilingual communicator. Fluent in Spanish, English (certified at C1 level by the British Council's APTIS test), and French (certified as DALF C1 by L'Alliance Française), I bridge cultural gaps and collaborate seamlessly on a global scale.\\n\\n💻 My skills shine in the realm of full-stack development with a focus on backend technologies. I'm adept with tools like Spring Boot, Vue.js, Expo, Django, MySQL, GitKraken, and I ensure the smoothest collaboration through DevOps and GitHub Kanban. I also hold a Cisco CCNA Introduction to Networks badge.\\n\\n🤝 Collaboration is my forte. Whether leading a team or working alongside passionate colleagues, I relish the opportunity to drive progress and make exciting projects a reality.\\n\\n🙌 The values I cherish most are honesty, consistency, respect, and responsibility, and I seek these qualities in those I work with.\\n\\n✈️ My experience living abroad has honed my adaptability, allowing me to seamlessly integrate into new environments, navigate diverse social norms, and embrace emerging technologies.\\n\\n🥋 Beyond my digital pursuits, I love physical and mental exercise, practicing Taekwondo and cycling to cultivate resilience and determination. My love for movies, books, history, diverse cultures, and languages fuels my passion for meaningful conversations.\\n\\n🌟 Let's connect and explore opportunities to collaborate, innovate, and make a difference together. Whether you're interested in technology, languages, or simply sharing a great book recommendation, I'm always eager to connect and expand my horizons.\\n\\nLooking forward to connecting and embarking on exciting journeys together! 🚀🌎 #OpenToOpportunities #TechEnthusiast #LanguageLover #TeamPlayer\")],\n",
       " 'answer': \"Valentin Valencia's hobbies include practicing Taekwondo, cycling, watching movies, reading books, exploring history, learning about diverse cultures, and languages.\"}"
      ]
     },
     "execution_count": 39,
     "metadata": {},
     "output_type": "execute_result"
    }
   ],
   "source": [
    "retrieval_chain.invoke({\n",
    "    \"chat_history\": chat_history,\n",
    "    \"input\": \"list his hobbies\"\n",
    "})"
   ]
  },
  {
   "cell_type": "code",
   "execution_count": 41,
   "id": "345c542e-7db8-437f-96b1-cb1f469064b9",
   "metadata": {},
   "outputs": [
    {
     "name": "stdout",
     "output_type": "stream",
     "text": [
      "[HumanMessage(content='Hello'), AIMessage(content='Hello!')]\n"
     ]
    }
   ],
   "source": [
    "print(chat_history)"
   ]
  },
  {
   "cell_type": "code",
   "execution_count": null,
   "id": "c97e7416-1350-4461-8d64-8dee6f940ac2",
   "metadata": {},
   "outputs": [],
   "source": []
  },
  {
   "cell_type": "code",
   "execution_count": null,
   "id": "e05755f7-3f20-4c78-907a-5741647a7ae2",
   "metadata": {},
   "outputs": [],
   "source": []
  },
  {
   "cell_type": "code",
   "execution_count": null,
   "id": "38510621-a6f3-4acd-a551-421833dc2b90",
   "metadata": {},
   "outputs": [],
   "source": []
  },
  {
   "cell_type": "code",
   "execution_count": null,
   "id": "5b10bdac-81e1-4994-99fa-9c9b58f6e4fd",
   "metadata": {},
   "outputs": [],
   "source": []
  }
 ],
 "metadata": {
  "kernelspec": {
   "display_name": "Python 3 (ipykernel)",
   "language": "python",
   "name": "python3"
  },
  "language_info": {
   "codemirror_mode": {
    "name": "ipython",
    "version": 3
   },
   "file_extension": ".py",
   "mimetype": "text/x-python",
   "name": "python",
   "nbconvert_exporter": "python",
   "pygments_lexer": "ipython3",
   "version": "3.11.8"
  }
 },
 "nbformat": 4,
 "nbformat_minor": 5
}
